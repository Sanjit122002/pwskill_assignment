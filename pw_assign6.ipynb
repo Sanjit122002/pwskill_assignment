{
 "cells": [
  {
   "cell_type": "markdown",
   "id": "89216173",
   "metadata": {},
   "source": [
    "Q.1 What is exception in python write the diffrance between exception and syntex error?\n",
    "Ans - In Python, an exception is an error that occurs during the execution of a program. When an exceptional situation arises, Python raises an exception, which interrupts the normal flow of the program and transfers control to an exception handler. Exceptions allow you to handle errors and unexpected situations gracefully, rather than abruptly terminating the program."
   ]
  },
  {
   "cell_type": "markdown",
   "id": "f2d1aa3c",
   "metadata": {},
   "source": [
    "Q.2 What happend when exception is not handled in python ?explain with example\n",
    "When an exception is not handled in Python, it leads to an unhandled exception, which causes the program to terminate abruptly. The default behavior in Python is to print a traceback message that shows the exception type, the line of code where the exception occurred, and the call stack leading to that point. After printing the traceback, the program exits, and any remaining code or operations are not executed."
   ]
  },
  {
   "cell_type": "markdown",
   "id": "3c3176c6",
   "metadata": {},
   "source": [
    "Q3 Which python statement is used catch and handle exception in ? Explain with an example\n",
    "In Python, the try-except statement is used to catch and handle exceptions. The try block contains the code that might raise an exception, and the except block specifies the code to be executed when a specific exception is raised.\n",
    "\n",
    "Here's the basic syntax of a try-except statement:\n",
    "\n",
    "try: # Code that might raise an exception # ... except ExceptionType: # Code to handle the exception # ...\n",
    "\n",
    "Here's an example that demonstrates the usage of try-except to handle the ZeroDivisionError exception:"
   ]
  },
  {
   "cell_type": "code",
   "execution_count": null,
   "id": "8ee9806b",
   "metadata": {},
   "outputs": [],
   "source": [
    "def divide_numbers(a, b):\n",
    "    try:\n",
    "        result = a / b\n",
    "        print(\"Result:\", result)\n",
    "    except ZeroDivisionError:\n",
    "        print(\"Error: Division by zero is not allowed.\")\n",
    "\n",
    "# Main code\n",
    "num1 = 10\n",
    "num2 = 0\n",
    "\n",
    "divide_numbers(num1, num2)\n"
   ]
  },
  {
   "cell_type": "markdown",
   "id": "7e3c36d3",
   "metadata": {},
   "source": [
    "Q4 Explain with an example :\n",
    "a. try and else\n",
    ". finally\n",
    "c. raise\n",
    "a. try and else:\n",
    "\n",
    "The try-else statement is used when you want to specify a block of code to be executed if no exceptions are raised in the try block. The else block is executed immediately after the try block, but only if no exceptions occurred.\n",
    "\n",
    "Here's an example to demonstrate the usage of try-else:"
   ]
  },
  {
   "cell_type": "code",
   "execution_count": 2,
   "id": "707a58b4",
   "metadata": {},
   "outputs": [
    {
     "name": "stdout",
     "output_type": "stream",
     "text": [
      "Enter a number: 5\n",
      "Enter another number: 2\n",
      "The division result is: 2.5\n"
     ]
    }
   ],
   "source": [
    "try:\n",
    "    num1 = int(input(\"Enter a number: \"))\n",
    "    num2 = int(input(\"Enter another number: \"))\n",
    "    result = num1 / num2\n",
    "except ValueError:\n",
    "    print(\"Invalid input. Please enter numbers.\")\n",
    "except ZeroDivisionError:\n",
    "    print(\"Error: Division by zero is not allowed.\")\n",
    "else:\n",
    "    print(\"The division result is:\", result)\n"
   ]
  },
  {
   "cell_type": "code",
   "execution_count": null,
   "id": "6da566c3",
   "metadata": {},
   "outputs": [],
   "source": [
    "b. finally:\n",
    "\n",
    "The finally block is used to specify a block of code that will be executed regardless of whether an exception was raised or not. It ensures that certain cleanup or finalization tasks are performed, such as closing files or releasing resources, irrespective of whether an exception occurred.\n",
    "\n",
    "Here's an example that demonstrates the usage of finally:"
   ]
  },
  {
   "cell_type": "code",
   "execution_count": 3,
   "id": "4bb9b492",
   "metadata": {},
   "outputs": [
    {
     "name": "stdout",
     "output_type": "stream",
     "text": [
      "Error: File not found.\n"
     ]
    }
   ],
   "source": [
    "file = None\n",
    "try:\n",
    "    file = open(\"data.txt\", \"r\")\n",
    "    content = file.read()\n",
    "    print(\"File content:\", content)\n",
    "except FileNotFoundError:\n",
    "    print(\"Error: File not found.\")\n",
    "finally:\n",
    "    if file is not None:\n",
    "        file.close()\n",
    "        print(\"File closed.\")\n"
   ]
  },
  {
   "cell_type": "markdown",
   "id": "e5798de5",
   "metadata": {},
   "source": [
    "c. raise:\n",
    "\n",
    "The raise statement is used to manually raise an exception in Python. It allows you to generate and raise exceptions based on specific conditions or custom logic.\n",
    "\n",
    "Here's an example that shows how to use raise to raise a custom exception:"
   ]
  },
  {
   "cell_type": "code",
   "execution_count": null,
   "id": "cd0e172c",
   "metadata": {},
   "outputs": [],
   "source": [
    "def calculate_factorial(n):\n",
    "    if n < 0:\n",
    "        raise ValueError(\"Factorial is not defined for negative numbers.\")\n",
    "    factorial = 1\n",
    "    for i in range(1, n + 1):\n",
    "        factorial *= i\n",
    "    return factorial\n",
    "\n",
    "try:\n",
    "    number = int(input(\"Enter a number: \"))\n",
    "    result = calculate_factorial(number)\n",
    "    print(\"Factorial:\", result)\n",
    "except ValueError as e:\n",
    "    print(\"Error:\", str(e))"
   ]
  },
  {
   "cell_type": "markdown",
   "id": "df7d6b2e",
   "metadata": {},
   "source": [
    "Q5. What are Custom Exceptions in python? Why do we need Custom Exceptions? Explain with an example ?\n",
    "Custom exceptions in Python are user-defined exceptions that inherit from the built-in Exception class or any of its subclasses. They allow you to create specialized exception types tailored to your specific application or problem domain.\n",
    "\n",
    "We need custom exceptions in Python for the following reasons:\n",
    "\n",
    "Clear and informative error messages: By creating custom exceptions, you can provide more specific and meaningful error messages that help in understanding and troubleshooting issues within your code. Custom exceptions can convey the nature of the error or exceptional condition more accurately.\n",
    "\n",
    "Modularity and code organization: Custom exceptions help in structuring your code and separating different types of errors or exceptional situations into distinct exception classes. This promotes modularity and makes the code more readable and maintainable.\n",
    "\n",
    "Exception handling and error-specific actions: Custom exceptions allow you to handle different types of errors or exceptional situations differently. You can catch specific custom exceptions and perform specialized actions or error recovery procedures based on the specific exception type.\n",
    "\n",
    "Here's an example that demonstrates the usage of a custom exception:"
   ]
  },
  {
   "cell_type": "code",
   "execution_count": null,
   "id": "f97e514f",
   "metadata": {},
   "outputs": [],
   "source": [
    "class WithdrawalError(Exception):\n",
    "    pass\n",
    "\n",
    "class BankAccount:\n",
    "    def __init__(self, balance):\n",
    "        self.balance = balance\n",
    "\n",
    "    def withdraw(self, amount):\n",
    "        if amount > self.balance:\n",
    "            raise WithdrawalError(\"Insufficient funds.\")\n",
    "        self.balance -= amount\n",
    "        print(\"Withdrawal successful. Remaining balance:\", self.balance)\n",
    "\n",
    "# Example usage\n",
    "account = BankAccount(1000)\n",
    "try:\n",
    "    account.withdraw(1500)\n",
    "except WithdrawalError as e:\n",
    "    print(\"Error:\", str(e))\n"
   ]
  },
  {
   "cell_type": "markdown",
   "id": "345f64d2",
   "metadata": {},
   "source": [
    "Q6 Create a custom exception class .use its class to handle an exception"
   ]
  },
  {
   "cell_type": "code",
   "execution_count": null,
   "id": "0405ca9e",
   "metadata": {},
   "outputs": [],
   "source": [
    "class CustomException(Exception):\n",
    "    def __init__(self, message):\n",
    "        self.message = message\n",
    "\n",
    "    def __str__(self):\n",
    "        return f\"Custom Exception: {self.message}\"\n",
    "\n",
    "def perform_operation(value):\n",
    "    if value < 0:\n",
    "        raise CustomException(\"Negative values are not allowed.\")\n",
    "    else:\n",
    "        print(\"Operation performed successfully.\")\n",
    "\n",
    "# Example usage\n",
    "try:\n",
    "    perform_operation(-5)\n",
    "except CustomException as e:\n",
    "    print(e)"
   ]
  }
 ],
 "metadata": {
  "kernelspec": {
   "display_name": "Python 3 (ipykernel)",
   "language": "python",
   "name": "python3"
  },
  "language_info": {
   "codemirror_mode": {
    "name": "ipython",
    "version": 3
   },
   "file_extension": ".py",
   "mimetype": "text/x-python",
   "name": "python",
   "nbconvert_exporter": "python",
   "pygments_lexer": "ipython3",
   "version": "3.10.9"
  }
 },
 "nbformat": 4,
 "nbformat_minor": 5
}
