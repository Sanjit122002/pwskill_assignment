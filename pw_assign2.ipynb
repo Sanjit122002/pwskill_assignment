{
 "cells": [
  {
   "cell_type": "raw",
   "id": "38c60f63",
   "metadata": {},
   "source": [
    "Q1. How do you comment code in Python? What are the different types of comments?\n",
    "Sol:by commenting a line ,we can stop the interpreter from executing that commented lines.\n",
    "there are two types of comment\n",
    "1.single line(#hello)\n",
    "2.multiple line('''heloo\n",
    "world''')"
   ]
  },
  {
   "cell_type": "raw",
   "id": "baf79007",
   "metadata": {},
   "source": [
    "Q2. What are variables in Python? How do you declare and assign values to variables?\n",
    "\n",
    "Ans - Variables in python is like a continer which contain the values in python we do't need to intitialize it with data type like other programming language.\n",
    "\n",
    "When initializing variables in Python, there are a few rules and conventions to keep in mind:\n",
    "\n",
    "Variable Names: Choose meaningful and descriptive names for your variables to improve code readability. Variable names can consist of letters (a-z, A-Z), digits (0-9), and underscores (_). They should start with a letter or an underscore but cannot start with a digit. Python is case-sensitive, so 'myVariable' and 'myvariable' would be treated as two different variables.\n",
    "Avoid Reserved Words: Do not use reserved words or keywords as variable names since they have predefined meanings in Python. For example, you cannot use if, while, for, def, class, or import as variable names.\n",
    "Initialization: It is not mandatory to initialize variables at the time of declaration. However, it's good practice to initialize variables with an initial value to avoid potential errors or confusion. Uninitialized variables will have a default value of None until assigned a value.\n",
    "Dynamic Typing: Python is dynamically typed, meaning you can assign values of different types to the same variable. You don't need to explicitly declare the type of a variable, as Python determines it based on the assigned value. For example, x = 5 will create an integer variable, while x = \"Hello\" will create a string variable.\n",
    "Constants: In Python, there is no strict concept of constants. However, it is conventionally followed to use uppercase names to indicate that a variable's value should not be changed. Although the value can still be modified, it signals to other developers that it is intended to be constant. For example, PI = 3.14159.\n",
    "Reassignment: You can assign a new value to an existing variable at any point in your code. Python allows variables to be reassigned with values of different types. For example, you can assign an integer value initially and later assign it a string value.\n",
    "Scope: Variables have a scope, which defines where they can be accessed. Variables declared within a function have local scope and are only accessible within that function. Variables declared outside any function, at the module level, have global scope and can be accessed throughout the module."
   ]
  },
  {
   "cell_type": "code",
   "execution_count": 1,
   "id": "ac4d8a95",
   "metadata": {},
   "outputs": [
    {
     "name": "stdout",
     "output_type": "stream",
     "text": [
      "My name is  sanjit and my age is  22\n"
     ]
    }
   ],
   "source": [
    "age = 22 \n",
    "name = \"sanjit\"\n",
    "print('My name is ', name ,'and my age is ',age)"
   ]
  },
  {
   "cell_type": "code",
   "execution_count": null,
   "id": "13c5a6ba",
   "metadata": {},
   "outputs": [],
   "source": [
    "Q3. How do you convert one data type to another in Python?\n",
    "\n",
    "Ans - We can convert one data type into another like this\n",
    "\n"
   ]
  },
  {
   "cell_type": "code",
   "execution_count": 2,
   "id": "b787eb51",
   "metadata": {},
   "outputs": [
    {
     "name": "stdout",
     "output_type": "stream",
     "text": [
      "<class 'int'>\n",
      "<class 'str'>\n"
     ]
    }
   ],
   "source": [
    "age = 20 \n",
    "print(type(age))\n",
    "age = str(age)\n",
    "print(type(age))"
   ]
  },
  {
   "cell_type": "raw",
   "id": "ba0589f9",
   "metadata": {},
   "source": [
    "Q4. How do you write and execute a Python script from the command line?\n",
    "\n",
    "Ans- We will first creat a file in our device and then write a code then we save it .\n",
    "\n",
    "Then we open a terminal or command line and type 'python3 file_name.py' and execute it if the directory of that file is diffrent so we can change the directory using \"cd \" command ."
   ]
  },
  {
   "cell_type": "raw",
   "id": "cd4769fb",
   "metadata": {},
   "source": [
    "Q5. Given a list my_list = [1, 2, 3, 4, 5], write the code to slice the list and obtain the sub-list [2, 3]."
   ]
  },
  {
   "cell_type": "code",
   "execution_count": 3,
   "id": "1f76f361",
   "metadata": {},
   "outputs": [
    {
     "name": "stdout",
     "output_type": "stream",
     "text": [
      "[2, 3]\n"
     ]
    }
   ],
   "source": [
    "my_list = [1, 2, 3, 4, 5]\n",
    "print(my_list[1:3])"
   ]
  },
  {
   "cell_type": "raw",
   "id": "60c99e4b",
   "metadata": {},
   "source": [
    "Q6. What is a complex number in mathematics, and how is it represented in Python?\n",
    "\n",
    "Ans-In maths complex number contain both real part and imagenary part , which is expresed as a +bi , a is the real part and b is the imagenary part\n",
    "\n",
    "n Python, complex numbers are supported as a built-in numeric data type. They are represented using the complex class, and the imaginary part is denoted by appending a \"j\" or \"J\" to the number. The real and imaginary parts can be integers, floating-point numbers, or expressions that evaluate to numbers.\n",
    "\n"
   ]
  },
  {
   "cell_type": "code",
   "execution_count": 4,
   "id": "160259b2",
   "metadata": {},
   "outputs": [
    {
     "name": "stdout",
     "output_type": "stream",
     "text": [
      "<class 'complex'>\n"
     ]
    }
   ],
   "source": [
    "\n",
    "complexnum = 2 + 4j\n",
    "print(type(complexnum))\n",
    "     "
   ]
  },
  {
   "cell_type": "raw",
   "id": "a3fc4373",
   "metadata": {},
   "source": [
    "Q7. What is the correct way to declare a variable named age and assign the value 25 to it?\n",
    "\n",
    "Ans - It can be represent as\n",
    "\n",
    "\n",
    "\n",
    "     "
   ]
  },
  {
   "cell_type": "code",
   "execution_count": 5,
   "id": "442ffaa6",
   "metadata": {},
   "outputs": [
    {
     "name": "stdout",
     "output_type": "stream",
     "text": [
      "25\n",
      "<class 'int'>\n"
     ]
    }
   ],
   "source": [
    "age = 25\n",
    "print(age)\n",
    "print(type(age))"
   ]
  },
  {
   "cell_type": "raw",
   "id": "dc5c3740",
   "metadata": {},
   "source": [
    "Q8. Declare a variable named price and assign the value 9.99 to it. What data type does this variable belong to?"
   ]
  },
  {
   "cell_type": "code",
   "execution_count": 6,
   "id": "6aaf5336",
   "metadata": {},
   "outputs": [
    {
     "name": "stdout",
     "output_type": "stream",
     "text": [
      "9.99\n",
      "<class 'float'>\n"
     ]
    }
   ],
   "source": [
    "price = 9.99\n",
    "print(price)\n",
    "print(type(price))"
   ]
  },
  {
   "cell_type": "raw",
   "id": "aeb27e2a",
   "metadata": {},
   "source": [
    "Q9. Create a variable named name and assign your full name to it as a string. How would you print the value of this variable?"
   ]
  },
  {
   "cell_type": "code",
   "execution_count": 8,
   "id": "054fec00",
   "metadata": {},
   "outputs": [
    {
     "name": "stdout",
     "output_type": "stream",
     "text": [
      "anju\n"
     ]
    }
   ],
   "source": [
    "name = 'anju'\n",
    "print(name)\n",
    "     "
   ]
  },
  {
   "cell_type": "raw",
   "id": "1dfd2a9a",
   "metadata": {},
   "source": [
    "Q10. Given the string \"Hello, World!\", extract the substring \"World\".\n",
    "\n",
    "\n"
   ]
  },
  {
   "cell_type": "code",
   "execution_count": null,
   "id": "9002ff8f",
   "metadata": {},
   "outputs": [],
   "source": [
    "string = \"Hello, World!\"\n",
    "print(string[7:12]"
   ]
  },
  {
   "cell_type": "raw",
   "id": "d5c1f829",
   "metadata": {},
   "source": [
    "Q11. Create a variable named \"is_student\" and assign it a boolean value indicating whether you are currently a student or not."
   ]
  },
  {
   "cell_type": "code",
   "execution_count": null,
   "id": "48831434",
   "metadata": {},
   "outputs": [
    {
     "name": "stdout",
     "output_type": "stream",
     "text": [
      "True\n"
     ]
    }
   ],
   "source": [
    "is_student = True \n",
    "print(is_student)\n",
    "# or a small code to ask user whather he/ she is a student or not \n",
    "is_student = input('''Please type True if you are a student and \n",
    "type False if you are not a student''')\n",
    "\n",
    "if is_student == True :\n",
    "  print('You are a student ')\n",
    "else:\n",
    "  print('You are not a student ')"
   ]
  },
  {
   "cell_type": "code",
   "execution_count": null,
   "id": "0a638e2c",
   "metadata": {},
   "outputs": [],
   "source": []
  }
 ],
 "metadata": {
  "kernelspec": {
   "display_name": "Python 3 (ipykernel)",
   "language": "python",
   "name": "python3"
  },
  "language_info": {
   "codemirror_mode": {
    "name": "ipython",
    "version": 3
   },
   "file_extension": ".py",
   "mimetype": "text/x-python",
   "name": "python",
   "nbconvert_exporter": "python",
   "pygments_lexer": "ipython3",
   "version": "3.10.9"
  }
 },
 "nbformat": 4,
 "nbformat_minor": 5
}
