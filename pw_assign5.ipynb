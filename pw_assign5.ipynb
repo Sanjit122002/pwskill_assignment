{
 "cells": [
  {
   "cell_type": "markdown",
   "id": "b8f0addd",
   "metadata": {},
   "source": [
    "Q1. Explain Class and Object with respect to Object-Oriented Programming. Give a suitable example.\n",
    "Ans - In object-oriented programming (OOP), a class is a blueprint or template that defines the attributes (data) and behaviors (methods) that objects of the class should have. It represents a concept or a type of object. A class defines the structure and behavior of objects, but it does not represent a specific instance of the object.\n",
    "\n",
    "An object, on the other hand, is an instance of a class. It is a tangible representation of the class, created using the blueprint provided by the class. An object has its own unique state (attribute values) and can perform actions (methods) defined by its class."
   ]
  },
  {
   "cell_type": "code",
   "execution_count": 1,
   "id": "d99d38fa",
   "metadata": {},
   "outputs": [],
   "source": [
    "class Car:\n",
    "    def __init__(self, brand, model, color):\n",
    "        self.brand = brand\n",
    "        self.model = model\n",
    "        self.color = color\n",
    "\n",
    "    def start_engine(self):\n",
    "        print(\"Engine started.\")\n",
    "\n",
    "    def stop_engine(self):\n",
    "        print(\"Engine stopped.\")\n"
   ]
  },
  {
   "cell_type": "code",
   "execution_count": null,
   "id": "844ed9a6",
   "metadata": {},
   "outputs": [],
   "source": [
    "# Create objects of the Car class\n",
    "car1 = Car(\"Toyota\", \"Corolla\", \"Blue\")\n",
    "car2 = Car(\"Honda\", \"Civic\", \"Red\")\n"
   ]
  },
  {
   "cell_type": "code",
   "execution_count": null,
   "id": "d579253b",
   "metadata": {},
   "outputs": [],
   "source": [
    "# Accessing object attributes\n",
    "print(car1.brand)  \n",
    "print(car2.model) \n",
    "     "
   ]
  },
  {
   "cell_type": "markdown",
   "id": "5e48305c",
   "metadata": {},
   "source": [
    "Q2. Name the four pillars of OOPs.\n",
    "Ans- The four pillars of object-oriented programming (OOP) are:\n",
    "\n",
    "Encapsulation: Encapsulation refers to the bundling of data (attributes) and methods (behaviors) within a class. It involves hiding the internal details and providing a public interface to interact with the object. Encapsulation helps in achieving data abstraction and information hiding, ensuring that the object's state can only be accessed and modified through defined methods, promoting data integrity and security.\n",
    "\n",
    "Inheritance: Inheritance allows the creation of new classes (derived classes) based on existing classes (base classes). The derived classes inherit the attributes and behaviors of the base class, enabling code reuse and the establishment of an \"is-a\" relationship. Inheritance promotes hierarchical organization and supports the concept of specialization and generalization.\n",
    "\n",
    "Polymorphism: Polymorphism allows objects of different classes to be treated as objects of a common base class. It provides a way to perform a single action in different ways based on the object type. Polymorphism is achieved through method overriding (having the same method name in different classes with different implementations) and method overloading (having multiple methods with the same name but different parameters). It promotes code flexibility, extensibility, and the ability to write more generic and reusable code.\n",
    "\n",
    "Abstraction: Abstraction involves representing the essential features and behaviors of an object while hiding unnecessary details. It focuses on defining the interface or contract for a class, without providing the implementation details. Abstraction allows the creation of abstract classes and interfaces, which serve as blueprints for concrete classes. It helps in managing complexity, reducing dependencies, and promoting modular design."
   ]
  },
  {
   "cell_type": "markdown",
   "id": "9104caab",
   "metadata": {},
   "source": [
    "Q3. Explain why the init() function is used. Give a suitable example.\n",
    "Ans - The init() function in Python is a special method, also known as the constructor, that is automatically called when an object of a class is created. It is used to initialize the object's attributes and perform any necessary setup or initialization tasks.\n",
    "\n",
    "The primary purpose of the init() function is to ensure that the object starts in a valid state by initializing its attributes with appropriate values. It allows you to set the initial values of the object's attributes based on the arguments passed during object creation."
   ]
  },
  {
   "cell_type": "code",
   "execution_count": 3,
   "id": "a086577e",
   "metadata": {},
   "outputs": [
    {
     "name": "stdout",
     "output_type": "stream",
     "text": [
      "Hi, my name is Kuldeep and I am 20 years old.\n",
      "Hi, my name is Sudhansu and I am 30 years old.\n"
     ]
    }
   ],
   "source": [
    "class Person:\n",
    "    def __init__(self, name, age):\n",
    "        self.name = name\n",
    "        self.age = age\n",
    "\n",
    "    def introduce(self):\n",
    "        print(f\"Hi, my name is {self.name} and I am {self.age} years old.\")\n",
    "\n",
    "\n",
    "\n",
    "     \n",
    "\n",
    "# Create objects of the Person class\n",
    "person1 = Person(\"sanjit\", 20)\n",
    "person2 = Person(\"sanju\", 30)\n",
    "\n",
    "     \n",
    "\n",
    "# Call the introduce() method on the objects\n",
    "person1.introduce()  \n",
    "person2.introduce() "
   ]
  },
  {
   "cell_type": "markdown",
   "id": "3b5904c5",
   "metadata": {},
   "source": [
    "Q4. Why self is used in OOPs?\n",
    "Ans - In object-oriented programming (OOP) in Python, self is used as the first parameter in method definitions within a class. It is a convention (although not mandatory) to name this parameter self. The purpose of self is to refer to the instance of the class itself, allowing access to its attributes and methods."
   ]
  },
  {
   "cell_type": "code",
   "execution_count": 4,
   "id": "5a30f818",
   "metadata": {},
   "outputs": [
    {
     "name": "stdout",
     "output_type": "stream",
     "text": [
      "My name is kuldeep and I am 20 years old.\n"
     ]
    }
   ],
   "source": [
    "class Person:\n",
    "    def __init__(self, name, age):\n",
    "        self.name = name\n",
    "        self.age = age\n",
    "\n",
    "    def introduce(self):\n",
    "        print(f\"My name is {self.name} and I am {self.age} years old.\")\n",
    "\n",
    "     \n",
    "\n",
    "person = Person(\"sanjit\", 20)\n",
    "person.introduce()"
   ]
  },
  {
   "cell_type": "markdown",
   "id": "b65cbceb",
   "metadata": {},
   "source": [
    "Q5. What is inheritance? Give an example for each type of inheritance.\n",
    "Ans - Inheritance is a fundamental concept in object-oriented programming (OOP) that allows a class to inherit attributes and methods from another class. It establishes a relationship between classes where one class (derived class or subclass) inherits the properties of another class (base class or superclass). The derived class can extend or modify the inherited attributes and methods, as well as add new ones."
   ]
  },
  {
   "cell_type": "code",
   "execution_count": 5,
   "id": "5d29b2bf",
   "metadata": {},
   "outputs": [
    {
     "ename": "SyntaxError",
     "evalue": "invalid syntax (327381600.py, line 19)",
     "output_type": "error",
     "traceback": [
      "\u001b[1;36m  Cell \u001b[1;32mIn[5], line 19\u001b[1;36m\u001b[0m\n\u001b[1;33m    Dog barks\u001b[0m\n\u001b[1;37m        ^\u001b[0m\n\u001b[1;31mSyntaxError\u001b[0m\u001b[1;31m:\u001b[0m invalid syntax\n"
     ]
    }
   ],
   "source": [
    "#Single Inheritance\n",
    "class Animal:\n",
    "    def __init__(self, name):\n",
    "        self.name = name\n",
    "\n",
    "    def speak(self):\n",
    "        print(\"Animal speaks\")\n",
    "\n",
    "class Dog(Animal):\n",
    "    def speak(self):\n",
    "        print(\"Dog barks\")\n",
    "\n",
    "\n",
    "     \n",
    "\n",
    "dog = Dog(\"Buddy\")\n",
    "dog.speak()\n",
    "     \n",
    "Dog barks\n",
    "\n",
    "#Multiple Inheritance \n",
    "class Vehicle:\n",
    "    def __init__(self, brand):\n",
    "        self.brand = brand\n",
    "\n",
    "    def get_brand(self):\n",
    "        print(\"Brand:\", self.brand)\n",
    "\n",
    "class Engine:\n",
    "    def start_engine(self):\n",
    "        print(\"Engine started\")\n",
    "\n",
    "class Car(Vehicle, Engine):\n",
    "    def drive(self):\n",
    "        print(\"Car driving\")\n",
    "\n",
    "\n",
    "     \n",
    "\n",
    "car = Car(\"Toyota\")\n",
    "car.get_brand()     \n",
    "car.start_engine() \n",
    "car.drive()        \n",
    "     \n",
    "Brand: Toyota\n",
    "Engine started\n",
    "Car driving\n",
    "\n",
    "#Multilevel Inheritance\n",
    "class Animal:\n",
    "    def __init__(self, name):\n",
    "        self.name = name\n",
    "\n",
    "    def speak(self):\n",
    "        print(\"Animal speaks\")\n",
    "\n",
    "class Dog(Animal):\n",
    "    def bark(self):\n",
    "        print(\"Dog barks\")\n",
    "\n",
    "class Bulldog(Dog):\n",
    "    def guard(self):\n",
    "        print(\"Bulldog guarding\")\n",
    "\n",
    "\n",
    "     \n",
    "\n",
    "bulldog = Bulldog(\"Spike\")\n",
    "bulldog.speak()  \n",
    "bulldog.bark()   \n",
    "bulldog.guard() "
   ]
  },
  {
   "cell_type": "code",
   "execution_count": null,
   "id": "6b05ec90",
   "metadata": {},
   "outputs": [],
   "source": []
  }
 ],
 "metadata": {
  "kernelspec": {
   "display_name": "Python 3 (ipykernel)",
   "language": "python",
   "name": "python3"
  },
  "language_info": {
   "codemirror_mode": {
    "name": "ipython",
    "version": 3
   },
   "file_extension": ".py",
   "mimetype": "text/x-python",
   "name": "python",
   "nbconvert_exporter": "python",
   "pygments_lexer": "ipython3",
   "version": "3.10.9"
  }
 },
 "nbformat": 4,
 "nbformat_minor": 5
}
