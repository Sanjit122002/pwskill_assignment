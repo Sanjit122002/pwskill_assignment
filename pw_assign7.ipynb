{
 "cells": [
  {
   "cell_type": "markdown",
   "id": "4588e59f",
   "metadata": {},
   "source": [
    "Q1. Explain why we have to use the Exception class while creating a Custom Exception.\n",
    "Note: Here Exception class refers to the base class for all the exceptions.\n",
    "The Exception class serves as the base class for all built-in and user-defined exceptions. When creating a custom exception, it is important to inherit from the Exception class or one of its subclasses for several reasons:\n",
    "\n",
    "Consistency and Compatibility: Inheriting from the Exception class ensures that your custom exception follows the same structure and behavior as other built-in exceptions in Python. It allows your custom exception to be compatible with existing exception handling mechanisms and conventions.\n",
    "\n",
    "Exception Hierarchy: The Exception class is at the top of the exception hierarchy in Python. By inheriting from it, your custom exception becomes a part of this hierarchy, making it easier to organize and categorize exceptions based on their relationships and common behavior.\n",
    "\n",
    "Exception Handling: Inheriting from the Exception class allows you to handle your custom exception in a general catch-all manner by catching the Exception base class itself. It provides a consistent way to handle all exceptions, including your custom exception, in a single except block.\n",
    "\n",
    "Code Clarity and Readability: Using the Exception class as the base class for custom exceptions helps to make your code more readable and understandable for other developers. It clearly indicates that the class is intended to be an exception and follows the established exception hierarchy.\n",
    "\n",
    "Here's an example to illustrate the usage of the Exception class as the base class for a custom exception:\n",
    "\n",
    "In this example, the CustomException class is defined as a subclass of the Exception class. By inheriting from Exception CustomException gains all the properties and behaviors of the base class, including the ability to be caught by a general except block handling Exception instances.\n",
    "\n",
    "By using the Exception class as the base class for custom exceptions, you ensure that your exceptions align with established Python exception handling practices and facilitate proper integration with the language's exception hierarchy and mechanisms."
   ]
  },
  {
   "cell_type": "code",
   "execution_count": null,
   "id": "56d39ceb",
   "metadata": {},
   "outputs": [],
   "source": [
    "class CustomException(Exception):\n",
    "    pass\n",
    "\n",
    "def perform_operation(value):\n",
    "    if value < 0:\n",
    "        raise CustomException(\"Negative values are not allowed.\")\n",
    "    else:\n",
    "        print(\"Operation performed successfully.\")\n",
    "\n",
    "try:\n",
    "    perform_operation(-5)\n",
    "except CustomException as e:\n",
    "    print(e)"
   ]
  },
  {
   "cell_type": "markdown",
   "id": "433d09c1",
   "metadata": {},
   "source": [
    "Q2. Write a python program to print Python Exception Hierarchy.\n",
    "To print the Python Exception Hierarchy, you can make use of the sys module in Python, which provides access to some variables used or maintained by the interpreter. Here's a Python program that prints the exception hierarchy:\n",
    "\n",
    "python"
   ]
  },
  {
   "cell_type": "code",
   "execution_count": 1,
   "id": "5b656828",
   "metadata": {},
   "outputs": [
    {
     "name": "stdout",
     "output_type": "stream",
     "text": [
      "Python Exception Hierarchy:\n",
      "============================\n"
     ]
    }
   ],
   "source": [
    "import sys\n",
    "\n",
    "def print_exception_hierarchy():\n",
    "    exceptions = []\n",
    "    for name, obj in vars(sys.modules[__name__]).items():\n",
    "        if isinstance(obj, type) and issubclass(obj, BaseException):\n",
    "            exceptions.append(obj)\n",
    "\n",
    "    exceptions.sort(key=lambda x: x.__name__)\n",
    "\n",
    "    for exception in exceptions:\n",
    "        print(exception.__name__)\n",
    "        if exception.__base__ is not BaseException:\n",
    "            print_exception_tree(exception, exception.__base__, 1)\n",
    "\n",
    "def print_exception_tree(exception, base_exception, indent_level):\n",
    "    indent = \"    \" * indent_level\n",
    "    print(f\"{indent}{base_exception.__name__}\")\n",
    "    if base_exception.__base__ is not BaseException:\n",
    "        print_exception_tree(exception, base_exception.__base__, indent_level + 1)\n",
    "\n",
    "# Main program\n",
    "print(\"Python Exception Hierarchy:\")\n",
    "print(\"============================\")\n",
    "print_exception_hierarchy()\n"
   ]
  },
  {
   "cell_type": "markdown",
   "id": "ed592d50",
   "metadata": {},
   "source": [
    "Q3. What errors are defined in the ArithmeticError class? Explain any two with an example.\n",
    "The ArithmeticError class is a base class for arithmetic-related exceptions in Python. It serves as a superclass for a variety of specific arithmetic exceptions. Two commonly encountered exceptions that are subclasses of ArithmeticError are ZeroDivisionError and OverflowError. Let's explore each of them with examples:\n",
    "\n",
    "ZeroDivisionError: This exception is raised when attempting to divide a number by zero."
   ]
  },
  {
   "cell_type": "code",
   "execution_count": null,
   "id": "f74da8a9",
   "metadata": {},
   "outputs": [],
   "source": [
    "num1 = 10\n",
    "num2 = 0\n",
    "\n",
    "try:\n",
    "    result = num1 / num2\n",
    "    print(\"Result:\", result)\n",
    "except ZeroDivisionError:\n",
    "    print(\"Error: Division by zero is not allowed.\")\n"
   ]
  },
  {
   "cell_type": "markdown",
   "id": "88aa84dd",
   "metadata": {},
   "source": [
    "OverflowError: This exception is raised when the result of an arithmetic operation exceeds the maximum representable value."
   ]
  },
  {
   "cell_type": "code",
   "execution_count": null,
   "id": "be7997d7",
   "metadata": {},
   "outputs": [],
   "source": [
    "num1 = 10**1000\n",
    "num2 = 10**1000\n",
    "\n",
    "try:\n",
    "    result = num1 * num2\n",
    "    print(\"Result:\", result)\n",
    "except OverflowError:\n",
    "    print(\"Error: Overflow occurred.\")\n"
   ]
  },
  {
   "cell_type": "markdown",
   "id": "2a8a8304",
   "metadata": {},
   "source": [
    "Q4. Why LookupError class is used? Explain with an example KeyError and IndexError.\n",
    "The LookupError class in Python is a base class for exceptions that are related to lookup operations. It serves as a superclass for exceptions like KeyError and IndexError.\n",
    "\n",
    "The primary purpose of the LookupError class is to handle errors that occur during indexing or lookup operations when accessing elements from sequences (such as lists or tuples) or mappings (such as dictionaries). It provides a common base for exceptions that indicate a lookup or indexing error, allowing for more specific handling of these types of errors.\n",
    "\n",
    "Here are explanations and examples of two subclasses of LookupError: KeyError and IndexError:\n",
    "\n",
    "KeyError: This exception is raised when a dictionary key is not found."
   ]
  },
  {
   "cell_type": "markdown",
   "id": "a0a1c642",
   "metadata": {},
   "source": [
    "IndexError: This exception is raised when trying to access an index that is out of range."
   ]
  },
  {
   "cell_type": "code",
   "execution_count": 2,
   "id": "89b0f288",
   "metadata": {},
   "outputs": [
    {
     "name": "stdout",
     "output_type": "stream",
     "text": [
      "Error: Index out of range.\n"
     ]
    }
   ],
   "source": [
    "my_list = [1, 2, 3]\n",
    "\n",
    "try:\n",
    "    value = my_list[3]\n",
    "    print(\"Value:\", value)\n",
    "except IndexError:\n",
    "    print(\"Error: Index out of range.\")\n"
   ]
  },
  {
   "cell_type": "markdown",
   "id": "6498ea01",
   "metadata": {},
   "source": [
    "Q5. Explain ImportError. What is ModuleNotFoundError?\n",
    "In Python, ImportError is an exception that is raised when there is a problem importing a module or when an imported module cannot be found or loaded successfully. It is a generic exception that encompasses various import-related errors.\n",
    "\n",
    "The ImportError exception can occur due to several reasons, including:\n",
    "\n",
    "Module not found: This occurs when the module being imported cannot be located or does not exist in the specified location or search path.\n",
    "\n",
    "Invalid module or package name: This happens when the name of the module or package being imported is misspelled or does not match the actual name of the module.\n",
    "\n",
    "Circular imports: This occurs when there is a circular dependency between modules, causing an import deadlock.\n",
    "\n",
    "Version incompatibility: This happens when the imported module or one of its dependencies requires a different version of a module that conflicts with the current version.\n",
    "\n",
    "Starting from Python 3.6, the ModuleNotFoundError exception was introduced as a subclass of ImportError to specifically indicate that a module could not be found during the import process. It is raised when the Python interpreter cannot locate the specified module.\n",
    "\n",
    "Here's an example to illustrate the usage of ImportError and ModuleNotFoundError:"
   ]
  },
  {
   "cell_type": "code",
   "execution_count": null,
   "id": "0c8e1e1e",
   "metadata": {},
   "outputs": [],
   "source": [
    "try:\n",
    "    # Import a non-existent module\n",
    "    import non_existent_module\n",
    "except ImportError:\n",
    "    print(\"ImportError: An error occurred while importing a module.\")\n",
    "\n",
    "try:\n",
    "    # Import a non-existent module\n",
    "    import non_existent_module\n",
    "except ModuleNotFoundError:\n",
    "    print(\"ModuleNotFoundError: The specified module was not found.\")\n"
   ]
  },
  {
   "cell_type": "markdown",
   "id": "daf81024",
   "metadata": {},
   "source": [
    "Q6. List down some best practices for exception handling in python.\n",
    "When it comes to exception handling in Python, following best practices can help you write robust and maintainable code:\n",
    "\n",
    "Catch specific exceptions: Catch specific exceptions rather than using a generic except block. This allows you to handle different types of exceptions differently and avoids catching unrelated exceptions accidentally.\n",
    "\n",
    "Use multiple except blocks: Use multiple except blocks to handle different exceptions separately. This helps in providing appropriate error handling and recovery mechanisms based on the specific exception type.\n",
    "\n",
    "Keep exception handling code concise: Keep the code within try and except blocks as minimal as possible. Avoid placing a large amount of code within a single try block, as it may make it harder to pinpoint the exact location where an exception occurs.\n",
    "\n",
    "Avoid catching and ignoring exceptions: Avoid catching exceptions without providing any meaningful error handling or logging. Ignoring exceptions can lead to hidden bugs and make troubleshooting and debugging difficult.\n",
    "\n",
    "Use finally block for cleanup: Use the finally block to execute cleanup code that should always run, regardless of whether an exception is raised or not. It is useful for releasing resources, closing files, or cleaning up database connections.\n",
    "\n",
    "Avoid unnecessary exception handling: Avoid using exceptions for flow control or normal program behavior. Exceptions should be used for exceptional conditions or error situations, not as a regular control mechanism.\n",
    "\n",
    "Handle exceptions at the appropriate level: Handle exceptions at the level where you can effectively handle or recover from them. Let exceptions propagate up the call stack when they cannot be appropriately handled at a particular level.\n",
    "\n",
    "Log exceptions: Include logging statements in your exception handling code to provide meaningful information about the exception, such as the error message, traceback, and relevant context. Logging helps in diagnosing and troubleshooting issues.\n",
    "\n",
    "Use custom exceptions: When appropriate, create custom exceptions to represent specific error conditions in your application. Custom exceptions can provide clear and specific error messages, making it easier to understand and handle exceptional situations.\n",
    "\n",
    "Test exception handling: Test your code for expected exception handling behavior. Ensure that exceptions are raised and caught correctly, and that the appropriate actions are taken in response to each exception."
   ]
  }
 ],
 "metadata": {
  "kernelspec": {
   "display_name": "Python 3 (ipykernel)",
   "language": "python",
   "name": "python3"
  },
  "language_info": {
   "codemirror_mode": {
    "name": "ipython",
    "version": 3
   },
   "file_extension": ".py",
   "mimetype": "text/x-python",
   "name": "python",
   "nbconvert_exporter": "python",
   "pygments_lexer": "ipython3",
   "version": "3.10.9"
  }
 },
 "nbformat": 4,
 "nbformat_minor": 5
}
