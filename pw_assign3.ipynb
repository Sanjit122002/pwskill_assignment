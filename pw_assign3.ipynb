{
 "cells": [
  {
   "cell_type": "markdown",
   "id": "7e9f5604",
   "metadata": {},
   "source": [
    "Q1. Which keyword is used to create a function? Create a function to return a list of odd numbers in the range of 1 to 25.\n",
    "\n",
    "Ans- Def keyword is used to create a function ."
   ]
  },
  {
   "cell_type": "code",
   "execution_count": 2,
   "id": "063109e6",
   "metadata": {},
   "outputs": [],
   "source": [
    "def odd_num ( num ):\n",
    "  if num % 2 == 1:\n",
    "    return 'odd'\n",
    "  else:\n",
    "    return'even'"
   ]
  },
  {
   "cell_type": "code",
   "execution_count": 3,
   "id": "37540b71",
   "metadata": {},
   "outputs": [
    {
     "name": "stdout",
     "output_type": "stream",
     "text": [
      "odd\n",
      "even\n",
      "odd\n",
      "even\n",
      "odd\n",
      "even\n",
      "odd\n",
      "even\n",
      "odd\n",
      "even\n",
      "odd\n",
      "even\n",
      "odd\n",
      "even\n",
      "odd\n",
      "even\n",
      "odd\n",
      "even\n",
      "odd\n",
      "even\n",
      "odd\n",
      "even\n",
      "odd\n",
      "even\n"
     ]
    }
   ],
   "source": [
    "for i in range (1,25):\n",
    "  x = odd_num(i)\n",
    "  print(x)\n",
    "     "
   ]
  },
  {
   "cell_type": "markdown",
   "id": "aa3a0751",
   "metadata": {},
   "source": [
    "Q2. Why *args and **kwargs is used in some functions? Create a function each for *args and **kwargs to demonstrate their use.\n",
    "\n",
    "Ans - *args and **kwargs are special Python keywords that are used to pass the variable length of arguments to a function"
   ]
  },
  {
   "cell_type": "code",
   "execution_count": 5,
   "id": "06faf75b",
   "metadata": {},
   "outputs": [],
   "source": [
    "def display(**salman):\n",
    "\n",
    "  for (key,value) in salman.items():\n",
    "    print(key,'->',value)\n",
    "     \n"
   ]
  },
  {
   "cell_type": "code",
   "execution_count": null,
   "id": "fec2126e",
   "metadata": {},
   "outputs": [],
   "source": [
    "\n",
    "     \n",
    "def display(**salman):\n",
    "\n",
    "  for (key,value) in salman.items():\n",
    "    print(key,'->',value)"
   ]
  },
  {
   "cell_type": "markdown",
   "id": "a31f675f",
   "metadata": {},
   "source": [
    "Q3. What is an iterator in python? Name the method used to initialise the iterator object and the method used for iteration. Use these methods to print the first five elements of the given list [2, 4, 6, 8, 10, 12, 14, 16, 18, 20].\n",
    "\n",
    "Ans - In Python, an iterator is an object that enables iteration over a container or a sequence of elements. It provides a way to access the elements of a collection one at a time without having to know the underlying structure of the collection."
   ]
  },
  {
   "cell_type": "code",
   "execution_count": 7,
   "id": "e9d9dba9",
   "metadata": {},
   "outputs": [
    {
     "name": "stdout",
     "output_type": "stream",
     "text": [
      "2\n",
      "4\n",
      "6\n",
      "8\n",
      "10\n"
     ]
    }
   ],
   "source": [
    "my_list = [2, 4, 6, 8, 10, 12, 14, 16, 18, 20]\n",
    "my_iterator = iter(my_list)\n",
    "\n",
    "for _ in range(5):\n",
    "    element = next(my_iterator)\n",
    "    print(element)"
   ]
  },
  {
   "cell_type": "markdown",
   "id": "c2b648a9",
   "metadata": {},
   "source": [
    "Q4. What is a generator function in python? Why yield keyword is used? Give an example of a generator function.\n",
    "\n",
    "Ans - In Python, a generator function is a special type of function that generates a sequence of values using the yield keyword instead of return. When a generator function is called, it returns an iterator that can be iterated over to retrieve the generated values one at a time. Unlike regular functions, which return a value and then terminate, generator functions can yield multiple values across multiple invocations, maintaining their internal state between each yield."
   ]
  },
  {
   "cell_type": "code",
   "execution_count": 8,
   "id": "18775dbd",
   "metadata": {},
   "outputs": [
    {
     "name": "stdout",
     "output_type": "stream",
     "text": [
      "0\n",
      "2\n",
      "4\n",
      "6\n",
      "8\n"
     ]
    }
   ],
   "source": [
    "def even_numbers():\n",
    "    num = 0\n",
    "    while True:\n",
    "        yield num\n",
    "        num += 2\n",
    "\n",
    "# Create a generator object\n",
    "even_gen = even_numbers()\n",
    "\n",
    "# Retrieve and print the first five even numbers\n",
    "for _ in range(5):\n",
    "    print(next(even_gen))\n"
   ]
  },
  {
   "cell_type": "markdown",
   "id": "69faef0f",
   "metadata": {},
   "source": [
    "Q5. Create a generator function for prime numbers less than 1000. Use the next() method to print the first 20 prime numbers."
   ]
  },
  {
   "cell_type": "code",
   "execution_count": 9,
   "id": "74356873",
   "metadata": {},
   "outputs": [
    {
     "name": "stdout",
     "output_type": "stream",
     "text": [
      "2\n",
      "3\n",
      "5\n",
      "7\n",
      "11\n",
      "13\n",
      "17\n",
      "19\n",
      "23\n",
      "29\n",
      "31\n",
      "37\n",
      "41\n",
      "43\n",
      "47\n",
      "53\n",
      "59\n",
      "61\n",
      "67\n",
      "71\n"
     ]
    }
   ],
   "source": [
    "def prime_generator():\n",
    "    primes = []\n",
    "    num = 2\n",
    "\n",
    "    while True:\n",
    "        is_prime = True\n",
    "\n",
    "        for prime in primes:\n",
    "            if prime * prime > num:\n",
    "                break\n",
    "            if num % prime == 0:\n",
    "                is_prime = False\n",
    "                break\n",
    "\n",
    "        if is_prime:\n",
    "            primes.append(num)\n",
    "            yield num\n",
    "\n",
    "        num += 1\n",
    "\n",
    "# Create a generator object\n",
    "prime_gen = prime_generator()\n",
    "\n",
    "# Print the first 20 prime numbers\n",
    "for _ in range(20):\n",
    "    print(next(prime_gen))\n"
   ]
  },
  {
   "cell_type": "code",
   "execution_count": null,
   "id": "faa841fb",
   "metadata": {},
   "outputs": [],
   "source": []
  }
 ],
 "metadata": {
  "kernelspec": {
   "display_name": "Python 3 (ipykernel)",
   "language": "python",
   "name": "python3"
  },
  "language_info": {
   "codemirror_mode": {
    "name": "ipython",
    "version": 3
   },
   "file_extension": ".py",
   "mimetype": "text/x-python",
   "name": "python",
   "nbconvert_exporter": "python",
   "pygments_lexer": "ipython3",
   "version": "3.10.9"
  }
 },
 "nbformat": 4,
 "nbformat_minor": 5
}
