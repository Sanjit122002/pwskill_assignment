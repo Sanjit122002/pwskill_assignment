{
 "cells": [
  {
   "cell_type": "raw",
   "id": "93e779a5",
   "metadata": {},
   "source": [
    "Q1. Create one variable containing following type of data: \n",
    "\n",
    "(i) string \n",
    "\n",
    "(ii) list \n",
    "\n",
    "(iii) float \n",
    "\n",
    "(iv) tuple \n",
    "\n"
   ]
  },
  {
   "cell_type": "raw",
   "id": "7e495436",
   "metadata": {},
   "source": [
    "string"
   ]
  },
  {
   "cell_type": "code",
   "execution_count": 1,
   "id": "898f103c",
   "metadata": {},
   "outputs": [
    {
     "data": {
      "text/plain": [
       "str"
      ]
     },
     "execution_count": 1,
     "metadata": {},
     "output_type": "execute_result"
    }
   ],
   "source": [
    "name=\"sanjit\"\n",
    "type(name)"
   ]
  },
  {
   "cell_type": "raw",
   "id": "82ca6029",
   "metadata": {},
   "source": [
    "list"
   ]
  },
  {
   "cell_type": "code",
   "execution_count": null,
   "id": "0d377bc5",
   "metadata": {},
   "outputs": [],
   "source": [
    "list1=[1,2,'pw skills']"
   ]
  },
  {
   "cell_type": "raw",
   "id": "3c2eaa06",
   "metadata": {},
   "source": [
    "float"
   ]
  },
  {
   "cell_type": "code",
   "execution_count": null,
   "id": "574744e9",
   "metadata": {},
   "outputs": [],
   "source": [
    "num=12.4"
   ]
  },
  {
   "cell_type": "raw",
   "id": "fd4f56b8",
   "metadata": {},
   "source": [
    "tuple"
   ]
  },
  {
   "cell_type": "code",
   "execution_count": null,
   "id": "cba296f6",
   "metadata": {},
   "outputs": [],
   "source": [
    "tup=(1,2,3,4)"
   ]
  },
  {
   "cell_type": "raw",
   "id": "49dfcdbe",
   "metadata": {},
   "source": [
    "Q2. Given are some following variables containing data: (i) var1 = ‘ ‘ (ii) var2 = ‘[ DS , ML , Python]’ (iii) var3 = [ ‘DS’ , ’ML’ , ‘Python’ ] (iv) var4 = 1. What will be the data type of the above given variable."
   ]
  },
  {
   "cell_type": "code",
   "execution_count": 2,
   "id": "1441fb8a",
   "metadata": {},
   "outputs": [
    {
     "data": {
      "text/plain": [
       "str"
      ]
     },
     "execution_count": 2,
     "metadata": {},
     "output_type": "execute_result"
    }
   ],
   "source": [
    "var1=''\n",
    "type(var1)"
   ]
  },
  {
   "cell_type": "code",
   "execution_count": 10,
   "id": "88e8c83e",
   "metadata": {},
   "outputs": [
    {
     "data": {
      "text/plain": [
       "str"
      ]
     },
     "execution_count": 10,
     "metadata": {},
     "output_type": "execute_result"
    }
   ],
   "source": [
    "var2= \"[ DS , ML , Python]\"\n",
    "type(var2)"
   ]
  },
  {
   "cell_type": "code",
   "execution_count": 9,
   "id": "9b150a1e",
   "metadata": {},
   "outputs": [
    {
     "data": {
      "text/plain": [
       "list"
      ]
     },
     "execution_count": 9,
     "metadata": {},
     "output_type": "execute_result"
    }
   ],
   "source": [
    "var3= [\"DS\" , \"ML\" ,\"Python\" ] \n",
    "type(var3)"
   ]
  },
  {
   "cell_type": "code",
   "execution_count": 11,
   "id": "e45e3465",
   "metadata": {},
   "outputs": [
    {
     "data": {
      "text/plain": [
       "float"
      ]
     },
     "execution_count": 11,
     "metadata": {},
     "output_type": "execute_result"
    }
   ],
   "source": [
    "var4 = 1.\n",
    "type(var4)"
   ]
  },
  {
   "cell_type": "raw",
   "id": "5e418fa9",
   "metadata": {},
   "source": [
    "Q3. Explain the use of the following operators using an example: (i) / (ii) % (iii) // (iv) **"
   ]
  },
  {
   "cell_type": "raw",
   "id": "e3358f5c",
   "metadata": {},
   "source": [
    "1./ is use for division\n",
    "2.% is used for modulos\n",
    "3.// is use for floor division.return only integer\n",
    "4.** is for exponential power"
   ]
  },
  {
   "cell_type": "raw",
   "id": "093b5052",
   "metadata": {},
   "source": [
    "4. Create a list of length 10 of your choice containing multiple types of data. Using for loop print the element and its data type."
   ]
  },
  {
   "cell_type": "code",
   "execution_count": 12,
   "id": "76383288",
   "metadata": {},
   "outputs": [
    {
     "name": "stdout",
     "output_type": "stream",
     "text": [
      "1\n",
      "<class 'int'>\n",
      "sanju\n",
      "<class 'str'>\n",
      "1.5\n",
      "<class 'float'>\n",
      "40.2\n",
      "<class 'float'>\n",
      "True\n",
      "<class 'bool'>\n",
      "(8+4j)\n",
      "<class 'complex'>\n",
      "7j\n",
      "<class 'complex'>\n",
      "8\n",
      "<class 'int'>\n",
      "9\n",
      "<class 'int'>\n",
      "6\n",
      "<class 'int'>\n"
     ]
    }
   ],
   "source": [
    "l1 = [ 1,'sanju',1.5,40.2,True,8+4j,7j,8,9,6]\n",
    "for i in l1:\n",
    "  print(i)\n",
    "  v = type(i)\n",
    "  print(v)"
   ]
  },
  {
   "cell_type": "raw",
   "id": "dd666f75",
   "metadata": {},
   "source": [
    "Q5. Using a while loop, verify if the number A is purely divisible by number B and if so then how many times it can be divisible."
   ]
  },
  {
   "cell_type": "code",
   "execution_count": 15,
   "id": "a7ea6553",
   "metadata": {},
   "outputs": [
    {
     "name": "stdout",
     "output_type": "stream",
     "text": [
      "Enter the first number: 45\n",
      "Enter the second number: 5\n",
      "5 divides 9 1 times.\n"
     ]
    }
   ],
   "source": [
    "A = int(input(\"Enter the first number: \"))\n",
    "B = int(input(\"Enter the second number: \"))\n",
    "\n",
    "count = 0 \n",
    "\n",
    "while A % B == 0:\n",
    "    A = A // B\n",
    "    count =count+ 1\n",
    "\n",
    "if count > 0:\n",
    "    print(f\"{B} divides {A}  {count} times.\")\n",
    "else:\n",
    "    print(f\"{B} does not divide {A} evenly.\")\n"
   ]
  },
  {
   "cell_type": "raw",
   "id": "3d09f717",
   "metadata": {},
   "source": [
    "Q6. Create a list containing 25 int type data. Using for loop and if-else condition print if the element is divisible by 3 or not."
   ]
  },
  {
   "cell_type": "code",
   "execution_count": 16,
   "id": "3daec68d",
   "metadata": {},
   "outputs": [
    {
     "name": "stdout",
     "output_type": "stream",
     "text": [
      "[1, 2, 3, 4, 5, 6, 7, 8, 9, 10, 11, 12, 13, 14, 15, 16, 17, 18, 19, 20, 21, 22, 23, 24, 25]\n",
      "1 Is not divisiable by 3\n",
      "2 Is not divisiable by 3\n",
      "3 Is divisibal by 3\n",
      "4 Is not divisiable by 3\n",
      "5 Is not divisiable by 3\n",
      "6 Is divisibal by 3\n",
      "7 Is not divisiable by 3\n",
      "8 Is not divisiable by 3\n",
      "9 Is divisibal by 3\n",
      "10 Is not divisiable by 3\n",
      "11 Is not divisiable by 3\n",
      "12 Is divisibal by 3\n",
      "13 Is not divisiable by 3\n",
      "14 Is not divisiable by 3\n",
      "15 Is divisibal by 3\n",
      "16 Is not divisiable by 3\n",
      "17 Is not divisiable by 3\n",
      "18 Is divisibal by 3\n",
      "19 Is not divisiable by 3\n",
      "20 Is not divisiable by 3\n",
      "21 Is divisibal by 3\n",
      "22 Is not divisiable by 3\n",
      "23 Is not divisiable by 3\n",
      "24 Is divisibal by 3\n",
      "25 Is not divisiable by 3\n"
     ]
    }
   ],
   "source": [
    "l3 = list(range(1,26)) \n",
    "print(l3)\n",
    "\n",
    "for i in l3:\n",
    "  \n",
    "  if i % 3 == 0 :\n",
    "    print(i,\"Is divisibal by 3\")\n",
    "  else:\n",
    "    print(i,\"Is not divisiable by 3\") "
   ]
  },
  {
   "cell_type": "raw",
   "id": "628aaba2",
   "metadata": {},
   "source": [
    "Q7. What do you understand about mutable and immutable data types? Give examples for both showing this property.\n",
    "\n",
    "Ans. An immutable object is an object whose value cannot be changed once it is created. Any operation that appears to modify an immutable object actually creates a new object with the modified value. Examples of immutable data types in Python include integers, floats, complex numbers, strings, and tuples.\n",
    "\n"
   ]
  },
  {
   "cell_type": "code",
   "execution_count": 17,
   "id": "d79427dc",
   "metadata": {},
   "outputs": [],
   "source": [
    "tuple = (1, 2, 3)\n",
    "list = [1, 2, 3]"
   ]
  },
  {
   "cell_type": "code",
   "execution_count": null,
   "id": "b136e06f",
   "metadata": {},
   "outputs": [],
   "source": []
  }
 ],
 "metadata": {
  "kernelspec": {
   "display_name": "Python 3 (ipykernel)",
   "language": "python",
   "name": "python3"
  },
  "language_info": {
   "codemirror_mode": {
    "name": "ipython",
    "version": 3
   },
   "file_extension": ".py",
   "mimetype": "text/x-python",
   "name": "python",
   "nbconvert_exporter": "python",
   "pygments_lexer": "ipython3",
   "version": "3.10.9"
  }
 },
 "nbformat": 4,
 "nbformat_minor": 5
}
